{
 "cells": [
  {
   "cell_type": "code",
   "execution_count": 3,
   "metadata": {},
   "outputs": [],
   "source": [
    "import numpy.linalg as la\n",
    "import numpy as np\n",
    "from sklearn.decomposition import PCA\n",
    "from sklearn.preprocessing import StandardScaler"
   ]
  },
  {
   "cell_type": "code",
   "execution_count": 49,
   "metadata": {},
   "outputs": [],
   "source": [
    "x1 = np.random.choice(np.arange(100), 5)\n",
    "x2 = np.random.choice(np.arange(100), 5)\n",
    "x3 = np.random.choice(np.arange(100), 5)\n",
    "x = np.hstack([x1.reshape((-1, 1)), x2.reshape((-1, 1)), x3.reshape((-1, 1))])"
   ]
  },
  {
   "cell_type": "code",
   "execution_count": 122,
   "metadata": {},
   "outputs": [
    {
     "data": {
      "text/plain": [
       "array([[59, 64, 71],\n",
       "       [75, 80, 55],\n",
       "       [94, 64,  1],\n",
       "       [44, 36, 74],\n",
       "       [12, 85, 40]])"
      ]
     },
     "execution_count": 122,
     "metadata": {},
     "output_type": "execute_result"
    }
   ],
   "source": [
    "x"
   ]
  },
  {
   "cell_type": "code",
   "execution_count": 127,
   "metadata": {},
   "outputs": [
    {
     "name": "stderr",
     "output_type": "stream",
     "text": [
      "/Users/jrpowers-luhn/miniconda3/envs/cs528p2/lib/python3.6/site-packages/sklearn/utils/validation.py:590: DataConversionWarning: Data with input dtype int64 was converted to float64 by StandardScaler.\n",
      "  warnings.warn(msg, DataConversionWarning)\n",
      "/Users/jrpowers-luhn/miniconda3/envs/cs528p2/lib/python3.6/site-packages/sklearn/utils/validation.py:590: DataConversionWarning: Data with input dtype int64 was converted to float64 by StandardScaler.\n",
      "  warnings.warn(msg, DataConversionWarning)\n"
     ]
    }
   ],
   "source": [
    "scaler = StandardScaler().fit(x)\n",
    "xs = scaler.transform(x)"
   ]
  },
  {
   "cell_type": "code",
   "execution_count": 116,
   "metadata": {},
   "outputs": [],
   "source": [
    "pca = PCA().fit(xs)"
   ]
  },
  {
   "cell_type": "code",
   "execution_count": 117,
   "metadata": {},
   "outputs": [],
   "source": [
    "u, s, vt = la.svd(xs)\n",
    "v = vt.T"
   ]
  },
  {
   "cell_type": "code",
   "execution_count": 118,
   "metadata": {},
   "outputs": [
    {
     "data": {
      "text/plain": [
       "array([0.49523097, 0.37321142, 0.1315576 ])"
      ]
     },
     "execution_count": 118,
     "metadata": {},
     "output_type": "execute_result"
    }
   ],
   "source": [
    "s**2 / np.sum(s**2)"
   ]
  },
  {
   "cell_type": "code",
   "execution_count": 119,
   "metadata": {},
   "outputs": [
    {
     "data": {
      "text/plain": [
       "array([0.49523097, 0.37321142, 0.1315576 ])"
      ]
     },
     "execution_count": 119,
     "metadata": {},
     "output_type": "execute_result"
    }
   ],
   "source": [
    "pca.explained_variance_ratio_"
   ]
  },
  {
   "cell_type": "code",
   "execution_count": 120,
   "metadata": {},
   "outputs": [
    {
     "data": {
      "text/plain": [
       "array([ 0.53979708,  0.39396753, -0.74391444])"
      ]
     },
     "execution_count": 120,
     "metadata": {},
     "output_type": "execute_result"
    }
   ],
   "source": [
    "pca.components_[0]"
   ]
  },
  {
   "cell_type": "code",
   "execution_count": 121,
   "metadata": {},
   "outputs": [
    {
     "data": {
      "text/plain": [
       "array([0.53979708, 0.62965788, 0.55870391])"
      ]
     },
     "execution_count": 121,
     "metadata": {},
     "output_type": "execute_result"
    }
   ],
   "source": [
    "v[0]"
   ]
  },
  {
   "cell_type": "code",
   "execution_count": 124,
   "metadata": {},
   "outputs": [
    {
     "data": {
      "text/plain": [
       "array([59, 64, 71])"
      ]
     },
     "execution_count": 124,
     "metadata": {},
     "output_type": "execute_result"
    }
   ],
   "source": [
    "vec = x[0]\n",
    "vec"
   ]
  },
  {
   "cell_type": "code",
   "execution_count": 131,
   "metadata": {},
   "outputs": [
    {
     "data": {
      "text/plain": [
       "array([[-0.63749441, -0.17087215,  0.56450712],\n",
       "       [ 0.48855938,  0.22073715,  0.9445083 ],\n",
       "       [ 2.00049932, -0.83913219, -0.49164215],\n",
       "       [-1.65627258, -1.10613871, -0.46767688],\n",
       "       [-0.19529172,  1.8954059 , -0.54969639]])"
      ]
     },
     "execution_count": 131,
     "metadata": {},
     "output_type": "execute_result"
    }
   ],
   "source": [
    "pca.transform(xs)"
   ]
  },
  {
   "cell_type": "code",
   "execution_count": 130,
   "metadata": {},
   "outputs": [
    {
     "data": {
      "text/plain": [
       "array([[-0.63749441,  0.17087215,  0.56450712],\n",
       "       [ 0.48855938, -0.22073715,  0.9445083 ],\n",
       "       [ 2.00049932,  0.83913219, -0.49164215],\n",
       "       [-1.65627258,  1.10613871, -0.46767688],\n",
       "       [-0.19529172, -1.8954059 , -0.54969639]])"
      ]
     },
     "execution_count": 130,
     "metadata": {},
     "output_type": "execute_result"
    }
   ],
   "source": [
    "u[:, :3] * s"
   ]
  },
  {
   "cell_type": "code",
   "execution_count": 136,
   "metadata": {},
   "outputs": [
    {
     "data": {
      "text/plain": [
       "array([[-0.63749441,  0.17087215,  0.56450712],\n",
       "       [ 0.48855938, -0.22073715,  0.9445083 ],\n",
       "       [ 2.00049932,  0.83913219, -0.49164215],\n",
       "       [-1.65627258,  1.10613871, -0.46767688],\n",
       "       [-0.19529172, -1.8954059 , -0.54969639]])"
      ]
     },
     "execution_count": 136,
     "metadata": {},
     "output_type": "execute_result"
    }
   ],
   "source": [
    "u @ np.vstack([np.diag(s), np.zeros((2, 3))])"
   ]
  },
  {
   "cell_type": "code",
   "execution_count": 138,
   "metadata": {},
   "outputs": [],
   "source": [
    "u2, s2, vt2 = la.svd(x, full_matrices=False)"
   ]
  },
  {
   "cell_type": "code",
   "execution_count": 140,
   "metadata": {},
   "outputs": [
    {
     "data": {
      "text/plain": [
       "array([[-0.49098253,  0.24314   ,  0.21899718],\n",
       "       [-0.5450888 , -0.06911033,  0.00662384],\n",
       "       [-0.43288508, -0.81565437, -0.00796998],\n",
       "       [-0.37684757,  0.40703868,  0.51463695],\n",
       "       [-0.36388292,  0.32424398, -0.82890388]])"
      ]
     },
     "execution_count": 140,
     "metadata": {},
     "output_type": "execute_result"
    }
   ],
   "source": [
    "u2"
   ]
  },
  {
   "cell_type": "code",
   "execution_count": 141,
   "metadata": {},
   "outputs": [
    {
     "data": {
      "text/plain": [
       "array([[-110.40966079,   17.52616182,   10.97909172],\n",
       "       [-122.57680395,   -4.98165215,    0.33207629],\n",
       "       [ -97.34500033,  -58.79448324,   -0.39956304],\n",
       "       [ -84.74356976,   29.34040385,   25.80054429],\n",
       "       [ -81.82814603,   23.37234728,  -41.55584074]])"
      ]
     },
     "execution_count": 141,
     "metadata": {},
     "output_type": "execute_result"
    }
   ],
   "source": [
    "u2 * s2"
   ]
  },
  {
   "cell_type": "code",
   "execution_count": 142,
   "metadata": {},
   "outputs": [
    {
     "data": {
      "text/plain": [
       "array([[-110.40966079,   17.52616182,   10.97909172],\n",
       "       [-122.57680395,   -4.98165215,    0.33207629],\n",
       "       [ -97.34500033,  -58.79448324,   -0.39956304],\n",
       "       [ -84.74356976,   29.34040385,   25.80054429],\n",
       "       [ -81.82814603,   23.37234728,  -41.55584074]])"
      ]
     },
     "execution_count": 142,
     "metadata": {},
     "output_type": "execute_result"
    }
   ],
   "source": [
    "u2 @ np.diag(s2)"
   ]
  },
  {
   "cell_type": "code",
   "execution_count": null,
   "metadata": {},
   "outputs": [],
   "source": []
  }
 ],
 "metadata": {
  "kernelspec": {
   "display_name": "Python [conda env:cs528p2]",
   "language": "python",
   "name": "conda-env-cs528p2-py"
  },
  "language_info": {
   "codemirror_mode": {
    "name": "ipython",
    "version": 3
   },
   "file_extension": ".py",
   "mimetype": "text/x-python",
   "name": "python",
   "nbconvert_exporter": "python",
   "pygments_lexer": "ipython3",
   "version": "3.6.6"
  }
 },
 "nbformat": 4,
 "nbformat_minor": 2
}
