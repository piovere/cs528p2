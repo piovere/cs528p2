{
 "cells": [
  {
   "cell_type": "code",
   "execution_count": 145,
   "metadata": {},
   "outputs": [],
   "source": [
    "import numpy as np\n",
    "import numpy.linalg as la"
   ]
  },
  {
   "cell_type": "markdown",
   "metadata": {},
   "source": [
    "Generate random data"
   ]
  },
  {
   "cell_type": "code",
   "execution_count": 146,
   "metadata": {},
   "outputs": [
    {
     "name": "stdout",
     "output_type": "stream",
     "text": [
      "(750, 4)\n"
     ]
    }
   ],
   "source": [
    "data = np.arange(3000)\n",
    "np.random.shuffle(data)\n",
    "data = data.reshape(-1, 4)\n",
    "print(data.shape)"
   ]
  },
  {
   "cell_type": "markdown",
   "metadata": {},
   "source": [
    "Set number of seeds, `k`"
   ]
  },
  {
   "cell_type": "code",
   "execution_count": 147,
   "metadata": {},
   "outputs": [],
   "source": [
    "k = 4"
   ]
  },
  {
   "cell_type": "markdown",
   "metadata": {},
   "source": [
    "Pick `k` initial seeds"
   ]
  },
  {
   "cell_type": "code",
   "execution_count": 148,
   "metadata": {},
   "outputs": [
    {
     "name": "stdout",
     "output_type": "stream",
     "text": [
      "Seeds: [210 690 614  46]\n",
      "Seeds:\n",
      "[[2205 2342  329 2876]\n",
      " [2842  518 2924  994]\n",
      " [   9 2495 1520   60]\n",
      " [1920  317 1501 2300]]\n"
     ]
    }
   ],
   "source": [
    "seed_ind = np.random.choice(np.arange(data.shape[0]), k, replace=False)\n",
    "print(f\"Seeds: {seed_ind}\")\n",
    "\n",
    "print(\"Seeds:\")\n",
    "seeds = data[seed_ind, :]\n",
    "print(seeds)"
   ]
  },
  {
   "cell_type": "markdown",
   "metadata": {},
   "source": [
    "Calculate distance from each sample to each seed"
   ]
  },
  {
   "cell_type": "code",
   "execution_count": 149,
   "metadata": {},
   "outputs": [],
   "source": [
    "def distances(data, seeds):\n",
    "    ds = [[la.norm(s - d) for s in seeds] for d in data]\n",
    "    return np.array(ds)"
   ]
  },
  {
   "cell_type": "markdown",
   "metadata": {},
   "source": [
    "For each datum in `data` find the seed to which it was the closest"
   ]
  },
  {
   "cell_type": "code",
   "execution_count": 150,
   "metadata": {},
   "outputs": [],
   "source": [
    "def make_labels(data, seeds):\n",
    "    ds = distances(data, seeds)\n",
    "    labels = np.argmin(ds, axis=1)\n",
    "    return labels"
   ]
  },
  {
   "cell_type": "markdown",
   "metadata": {},
   "source": [
    "Calculate the new center of each cluster by averaging the seeds"
   ]
  },
  {
   "cell_type": "code",
   "execution_count": 151,
   "metadata": {},
   "outputs": [],
   "source": [
    "def new_seeds(data, labels, k):\n",
    "    inds = [np.argwhere(labels == _) for _ in range(k)]\n",
    "    new_seeds = [np.mean(data[i, :], axis=0) for i in inds]\n",
    "    return np.array(new_seeds)"
   ]
  },
  {
   "cell_type": "markdown",
   "metadata": {},
   "source": [
    "Calculate new seeds until convergence"
   ]
  },
  {
   "cell_type": "code",
   "execution_count": 152,
   "metadata": {},
   "outputs": [],
   "source": [
    "labels = make_labels(data, seeds)\n",
    "seeds = new_seeds(data, labels, k)"
   ]
  },
  {
   "cell_type": "code",
   "execution_count": 153,
   "metadata": {},
   "outputs": [],
   "source": [
    "conv_count = 0\n",
    "old_seeds = np.zeros_like(seeds)\n",
    "while not(np.allclose(seeds, old_seeds)):\n",
    "    conv_count += 1\n",
    "    old_seeds = np.copy(seeds)\n",
    "    labels = make_labels(data, seeds)\n",
    "    seeds = new_seeds(data, labels, k)"
   ]
  },
  {
   "cell_type": "markdown",
   "metadata": {},
   "source": [
    "I will define goodness of clustering as the sum of the squared distance of each sample to its seed"
   ]
  },
  {
   "cell_type": "code",
   "execution_count": 157,
   "metadata": {},
   "outputs": [],
   "source": [
    "def error(data, seeds, labels):\n",
    "    e = 0\n",
    "    for _ in range(labels.shape[0]):\n",
    "        l = labels[_]\n",
    "        e += la.norm(data[_] - seeds[l])**2\n",
    "    return e"
   ]
  },
  {
   "cell_type": "code",
   "execution_count": 159,
   "metadata": {},
   "outputs": [
    {
     "data": {
      "text/plain": [
       "1355571287.999357"
      ]
     },
     "execution_count": 159,
     "metadata": {},
     "output_type": "execute_result"
    }
   ],
   "source": [
    "error(data, seeds, labels)"
   ]
  },
  {
   "cell_type": "code",
   "execution_count": 160,
   "metadata": {},
   "outputs": [
    {
     "data": {
      "text/plain": [
       "2.8284271247461903"
      ]
     },
     "execution_count": 160,
     "metadata": {},
     "output_type": "execute_result"
    }
   ],
   "source": [
    "a = np.array([3, 3])\n",
    "b = np.array([1, 1])\n",
    "la.norm(a-b)"
   ]
  },
  {
   "cell_type": "code",
   "execution_count": 164,
   "metadata": {},
   "outputs": [
    {
     "data": {
      "text/plain": [
       "2.8284271247461903"
      ]
     },
     "execution_count": 164,
     "metadata": {},
     "output_type": "execute_result"
    }
   ],
   "source": [
    "np.sqrt(np.sum((a - b) ** 2))"
   ]
  },
  {
   "cell_type": "code",
   "execution_count": null,
   "metadata": {},
   "outputs": [],
   "source": []
  }
 ],
 "metadata": {
  "kernelspec": {
   "display_name": "Python [conda env:cs528p2]",
   "language": "python",
   "name": "conda-env-cs528p2-py"
  },
  "language_info": {
   "codemirror_mode": {
    "name": "ipython",
    "version": 3
   },
   "file_extension": ".py",
   "mimetype": "text/x-python",
   "name": "python",
   "nbconvert_exporter": "python",
   "pygments_lexer": "ipython3",
   "version": "3.6.6"
  }
 },
 "nbformat": 4,
 "nbformat_minor": 2
}
