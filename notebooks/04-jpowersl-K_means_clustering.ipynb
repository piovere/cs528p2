{
 "cells": [
  {
   "cell_type": "code",
   "execution_count": 1,
   "metadata": {},
   "outputs": [],
   "source": [
    "%load_ext autoreload"
   ]
  },
  {
   "cell_type": "code",
   "execution_count": 2,
   "metadata": {},
   "outputs": [],
   "source": [
    "%autoreload 2"
   ]
  },
  {
   "cell_type": "code",
   "execution_count": 28,
   "metadata": {},
   "outputs": [],
   "source": [
    "import pandas as pd\n",
    "import numpy as np\n",
    "import numpy.linalg as la\n",
    "import seaborn as sns\n",
    "import matplotlib.pyplot as plt"
   ]
  },
  {
   "cell_type": "code",
   "execution_count": 4,
   "metadata": {},
   "outputs": [],
   "source": [
    "from src.features.build_features import KMeans, PCA"
   ]
  },
  {
   "cell_type": "code",
   "execution_count": 5,
   "metadata": {},
   "outputs": [],
   "source": [
    "datafile = \"../data/processed/UTK-peers_processed.csv\"\n",
    "df = pd.read_csv(datafile)"
   ]
  },
  {
   "cell_type": "code",
   "execution_count": 6,
   "metadata": {},
   "outputs": [
    {
     "data": {
      "text/html": [
       "<div>\n",
       "<style scoped>\n",
       "    .dataframe tbody tr th:only-of-type {\n",
       "        vertical-align: middle;\n",
       "    }\n",
       "\n",
       "    .dataframe tbody tr th {\n",
       "        vertical-align: top;\n",
       "    }\n",
       "\n",
       "    .dataframe thead th {\n",
       "        text-align: right;\n",
       "    }\n",
       "</style>\n",
       "<table border=\"1\" class=\"dataframe\">\n",
       "  <thead>\n",
       "    <tr style=\"text-align: right;\">\n",
       "      <th></th>\n",
       "      <th>Name</th>\n",
       "      <th>IPEDS#</th>\n",
       "      <th>% Blk Total Students</th>\n",
       "      <th>% Hisp Total Students</th>\n",
       "      <th>2017 US News top 65</th>\n",
       "      <th>Total Enroll</th>\n",
       "      <th>% Grad Enroll</th>\n",
       "      <th>Six-year graduation rate</th>\n",
       "      <th>ACT/ SAT Avg</th>\n",
       "      <th>Fresh Admit Rate</th>\n",
       "      <th>...</th>\n",
       "      <th>Student Services Expenditures</th>\n",
       "      <th>Endowment Figure</th>\n",
       "      <th>Endowment per Student FTE</th>\n",
       "      <th>Total Faculty.1</th>\n",
       "      <th>Total Tenure /Tenure-Track Facutly.1</th>\n",
       "      <th>Carm R1_1</th>\n",
       "      <th>Carm R1_2</th>\n",
       "      <th>2014 Med School_pre clin</th>\n",
       "      <th>2014 Med School_x</th>\n",
       "      <th>Vet School_True</th>\n",
       "    </tr>\n",
       "  </thead>\n",
       "  <tbody>\n",
       "    <tr>\n",
       "      <th>0</th>\n",
       "      <td>Univ. of Tennessee - Knoxville</td>\n",
       "      <td>221759.0</td>\n",
       "      <td>6.625965</td>\n",
       "      <td>3.404561</td>\n",
       "      <td>46</td>\n",
       "      <td>27845</td>\n",
       "      <td>21.483211</td>\n",
       "      <td>70</td>\n",
       "      <td>27.0</td>\n",
       "      <td>76.295299</td>\n",
       "      <td>...</td>\n",
       "      <td>30587.112868</td>\n",
       "      <td>782734414</td>\n",
       "      <td>30587.112868</td>\n",
       "      <td>1526</td>\n",
       "      <td>1117</td>\n",
       "      <td>1</td>\n",
       "      <td>0</td>\n",
       "      <td>0</td>\n",
       "      <td>0</td>\n",
       "      <td>1</td>\n",
       "    </tr>\n",
       "    <tr>\n",
       "      <th>1</th>\n",
       "      <td>Univ. of Georgia</td>\n",
       "      <td>139959.0</td>\n",
       "      <td>8.048713</td>\n",
       "      <td>4.732909</td>\n",
       "      <td>18</td>\n",
       "      <td>36130</td>\n",
       "      <td>23.755882</td>\n",
       "      <td>85</td>\n",
       "      <td>27.5</td>\n",
       "      <td>52.877649</td>\n",
       "      <td>...</td>\n",
       "      <td>27830.636107</td>\n",
       "      <td>939024216</td>\n",
       "      <td>27830.636107</td>\n",
       "      <td>1918</td>\n",
       "      <td>1606</td>\n",
       "      <td>1</td>\n",
       "      <td>0</td>\n",
       "      <td>0</td>\n",
       "      <td>0</td>\n",
       "      <td>1</td>\n",
       "    </tr>\n",
       "    <tr>\n",
       "      <th>2</th>\n",
       "      <td>Purdue Univ.</td>\n",
       "      <td>243780.0</td>\n",
       "      <td>2.994663</td>\n",
       "      <td>4.128780</td>\n",
       "      <td>20</td>\n",
       "      <td>40472</td>\n",
       "      <td>24.491006</td>\n",
       "      <td>75</td>\n",
       "      <td>26.5</td>\n",
       "      <td>58.969601</td>\n",
       "      <td>...</td>\n",
       "      <td>66375.581533</td>\n",
       "      <td>2445541926</td>\n",
       "      <td>66375.581533</td>\n",
       "      <td>1783</td>\n",
       "      <td>1700</td>\n",
       "      <td>1</td>\n",
       "      <td>0</td>\n",
       "      <td>0</td>\n",
       "      <td>0</td>\n",
       "      <td>1</td>\n",
       "    </tr>\n",
       "    <tr>\n",
       "      <th>3</th>\n",
       "      <td>Texas A&amp;M Univ.</td>\n",
       "      <td>228723.0</td>\n",
       "      <td>3.203109</td>\n",
       "      <td>19.193581</td>\n",
       "      <td>27</td>\n",
       "      <td>63813</td>\n",
       "      <td>23.277389</td>\n",
       "      <td>79</td>\n",
       "      <td>26.0</td>\n",
       "      <td>66.642580</td>\n",
       "      <td>...</td>\n",
       "      <td>180613.450122</td>\n",
       "      <td>10521034492</td>\n",
       "      <td>180613.450122</td>\n",
       "      <td>2983</td>\n",
       "      <td>1995</td>\n",
       "      <td>1</td>\n",
       "      <td>0</td>\n",
       "      <td>1</td>\n",
       "      <td>0</td>\n",
       "      <td>1</td>\n",
       "    </tr>\n",
       "    <tr>\n",
       "      <th>4</th>\n",
       "      <td>Michigan State Univ.</td>\n",
       "      <td>171100.0</td>\n",
       "      <td>6.591080</td>\n",
       "      <td>4.020737</td>\n",
       "      <td>33</td>\n",
       "      <td>50538</td>\n",
       "      <td>22.547390</td>\n",
       "      <td>77</td>\n",
       "      <td>25.5</td>\n",
       "      <td>66.280453</td>\n",
       "      <td>...</td>\n",
       "      <td>55180.107179</td>\n",
       "      <td>2549137018</td>\n",
       "      <td>55180.107179</td>\n",
       "      <td>2616</td>\n",
       "      <td>1811</td>\n",
       "      <td>1</td>\n",
       "      <td>0</td>\n",
       "      <td>0</td>\n",
       "      <td>1</td>\n",
       "      <td>1</td>\n",
       "    </tr>\n",
       "  </tbody>\n",
       "</table>\n",
       "<p>5 rows × 63 columns</p>\n",
       "</div>"
      ],
      "text/plain": [
       "                             Name    IPEDS#  % Blk Total Students  \\\n",
       "0  Univ. of Tennessee - Knoxville  221759.0              6.625965   \n",
       "1                Univ. of Georgia  139959.0              8.048713   \n",
       "2                    Purdue Univ.  243780.0              2.994663   \n",
       "3                Texas A&M Univ.   228723.0              3.203109   \n",
       "4            Michigan State Univ.  171100.0              6.591080   \n",
       "\n",
       "   % Hisp Total Students  2017 US News top 65  Total Enroll  % Grad Enroll  \\\n",
       "0               3.404561                   46         27845      21.483211   \n",
       "1               4.732909                   18         36130      23.755882   \n",
       "2               4.128780                   20         40472      24.491006   \n",
       "3              19.193581                   27         63813      23.277389   \n",
       "4               4.020737                   33         50538      22.547390   \n",
       "\n",
       "   Six-year graduation rate  ACT/ SAT Avg  Fresh Admit Rate       ...         \\\n",
       "0                        70          27.0         76.295299       ...          \n",
       "1                        85          27.5         52.877649       ...          \n",
       "2                        75          26.5         58.969601       ...          \n",
       "3                        79          26.0         66.642580       ...          \n",
       "4                        77          25.5         66.280453       ...          \n",
       "\n",
       "   Student Services Expenditures  Endowment Figure  Endowment per Student FTE  \\\n",
       "0                   30587.112868         782734414               30587.112868   \n",
       "1                   27830.636107         939024216               27830.636107   \n",
       "2                   66375.581533        2445541926               66375.581533   \n",
       "3                  180613.450122       10521034492              180613.450122   \n",
       "4                   55180.107179        2549137018               55180.107179   \n",
       "\n",
       "   Total Faculty.1  Total Tenure /Tenure-Track Facutly.1  Carm R1_1  \\\n",
       "0             1526                                  1117          1   \n",
       "1             1918                                  1606          1   \n",
       "2             1783                                  1700          1   \n",
       "3             2983                                  1995          1   \n",
       "4             2616                                  1811          1   \n",
       "\n",
       "   Carm R1_2  2014 Med School_pre clin  2014 Med School_x  Vet School_True  \n",
       "0          0                         0                  0                1  \n",
       "1          0                         0                  0                1  \n",
       "2          0                         0                  0                1  \n",
       "3          0                         1                  0                1  \n",
       "4          0                         0                  1                1  \n",
       "\n",
       "[5 rows x 63 columns]"
      ]
     },
     "execution_count": 6,
     "metadata": {},
     "output_type": "execute_result"
    }
   ],
   "source": [
    "df.head()"
   ]
  },
  {
   "cell_type": "code",
   "execution_count": 7,
   "metadata": {},
   "outputs": [],
   "source": [
    "df_num = df.select_dtypes(exclude=['object'])"
   ]
  },
  {
   "cell_type": "code",
   "execution_count": 8,
   "metadata": {},
   "outputs": [],
   "source": [
    "km = KMeans()"
   ]
  },
  {
   "cell_type": "code",
   "execution_count": 9,
   "metadata": {},
   "outputs": [],
   "source": [
    "km.fit(df_num.values, k=5, num_starts=10)"
   ]
  },
  {
   "cell_type": "code",
   "execution_count": 10,
   "metadata": {},
   "outputs": [
    {
     "data": {
      "text/plain": [
       "array([0, 0, 4, 3, 1, 1, 0, 0, 1, 0, 0, 4, 1, 4, 1, 1, 1, 1, 4, 1, 0, 4,\n",
       "       1, 4, 4, 1, 4, 1, 0, 0, 0, 0, 0, 0, 0, 0, 0, 0, 0, 0, 0, 0, 0, 2,\n",
       "       4, 0, 0, 0, 4, 0, 4, 4, 4, 0, 4, 0, 2])"
      ]
     },
     "execution_count": 10,
     "metadata": {},
     "output_type": "execute_result"
    }
   ],
   "source": [
    "km.predict(df_num.values)"
   ]
  },
  {
   "cell_type": "code",
   "execution_count": 11,
   "metadata": {},
   "outputs": [
    {
     "data": {
      "text/plain": [
       "<matplotlib.axes._subplots.AxesSubplot at 0x12531fef0>"
      ]
     },
     "execution_count": 11,
     "metadata": {},
     "output_type": "execute_result"
    },
    {
     "data": {
      "image/png": "[encoded data removed]",
      "text/plain": [
       "<Figure size 432x288 with 2 Axes>"
      ]
     },
     "metadata": {
      "needs_background": "light"
     },
     "output_type": "display_data"
    }
   ],
   "source": [
    "sns.heatmap(km.intercluster_distance())"
   ]
  },
  {
   "cell_type": "code",
   "execution_count": 12,
   "metadata": {},
   "outputs": [
    {
     "data": {
      "text/plain": [
       "array([0, 0, 4, 3, 1, 1, 0, 0, 1, 0, 0, 4, 1, 4, 1, 1, 1, 1, 4, 1, 0, 4,\n",
       "       1, 4, 4, 1, 4, 1, 0, 0, 0, 0, 0, 0, 0, 0, 0, 0, 0, 0, 0, 0, 0, 2,\n",
       "       4, 0, 0, 0, 4, 0, 4, 4, 4, 0, 4, 0, 2])"
      ]
     },
     "execution_count": 12,
     "metadata": {},
     "output_type": "execute_result"
    }
   ],
   "source": [
    "km.predict(df_num.values)"
   ]
  },
  {
   "cell_type": "code",
   "execution_count": 13,
   "metadata": {},
   "outputs": [
    {
     "data": {
      "image/png": "[encoded data removed]",
      "text/plain": [
       "<Figure size 432x288 with 1 Axes>"
      ]
     },
     "metadata": {
      "needs_background": "light"
     },
     "output_type": "display_data"
    }
   ],
   "source": [
    "km.plot_km(df_num.values)"
   ]
  },
  {
   "cell_type": "code",
   "execution_count": 14,
   "metadata": {},
   "outputs": [
    {
     "data": {
      "text/plain": [
       "0.5193628148544032"
      ]
     },
     "execution_count": 14,
     "metadata": {},
     "output_type": "execute_result"
    }
   ],
   "source": [
    "km.dunn_index(df_num.values)"
   ]
  },
  {
   "cell_type": "code",
   "execution_count": 30,
   "metadata": {},
   "outputs": [
    {
     "name": "stdout",
     "output_type": "stream",
     "text": [
      "2\t\t0.46\n",
      "3\t\t0.23\n",
      "4\t\t0.51\n",
      "5\t\t0.05\n",
      "6\t\t0.04\n",
      "7\t\t0.70\n",
      "8\t\t0.04\n",
      "9\t\t0.03\n",
      "10\t\t0.03\n",
      "11\t\t0.11\n",
      "12\t\t0.06\n",
      "13\t\t0.18\n",
      "14\t\t0.04\n",
      "15\t\t0.10\n",
      "16\t\t0.05\n",
      "17\t\t0.05\n",
      "18\t\t0.11\n",
      "19\t\t0.10\n",
      "20\t\t0.26\n",
      "21\t\t0.12\n",
      "22\t\t0.08\n",
      "23\t\t0.13\n",
      "24\t\t0.16\n",
      "25\t\t0.09\n",
      "26\t\t0.11\n",
      "27\t\t0.09\n",
      "28\t\t0.10\n",
      "29\t\t0.09\n",
      "30\t\t0.07\n",
      "31\t\t0.06\n",
      "32\t\t0.08\n",
      "33\t\t0.05\n",
      "34\t\t0.08\n",
      "35\t\t0.11\n",
      "36\t\t0.09\n",
      "37\t\t0.07\n",
      "38\t\t0.18\n",
      "39\t\t0.16\n",
      "40\t\t0.15\n",
      "41\t\t0.14\n",
      "42\t\t0.06\n",
      "43\t\t0.11\n",
      "44\t\t0.28\n",
      "45\t\t0.10\n",
      "46\t\t0.11\n",
      "47\t\t0.23\n",
      "48\t\t0.11\n",
      "49\t\t0.14\n",
      "50\t\t0.11\n",
      "51\t\t0.26\n",
      "52\t\t0.14\n",
      "53\t\t0.32\n",
      "54\t\t0.26\n",
      "55\t\t0.25\n",
      "56\t\t0.25\n"
     ]
    }
   ],
   "source": [
    "k_array = [_ for _ in range(2, df_num.shape[0])]\n",
    "dunn_score = []\n",
    "for k in k_array:\n",
    "    kmt = KMeans()\n",
    "    kmt.fit(df_num.values, k)\n",
    "    di = kmt.dunn_index(df_num.values)\n",
    "    dunn_score.append(di)\n",
    "    print(f\"{k}\\t\\t{di:0.2f}\")"
   ]
  },
  {
   "cell_type": "code",
   "execution_count": 33,
   "metadata": {},
   "outputs": [
    {
     "data": {
      "text/plain": [
       "[]"
      ]
     },
     "execution_count": 33,
     "metadata": {},
     "output_type": "execute_result"
    },
    {
     "data": {
      "image/png": "[encoded data removed]",
      "text/plain": [
       "<Figure size 432x288 with 1 Axes>"
      ]
     },
     "metadata": {
      "needs_background": "light"
     },
     "output_type": "display_data"
    }
   ],
   "source": [
    "plt.plot(k_array, dunn_score)\n",
    "plt.xlabel(\"Number of clusters\")\n",
    "plt.ylabel(\"Dunn Index\")\n",
    "best_di = max(dunn_score)\n",
    "best_k = k_array[dunn_score.index(best_di)]\n",
    "plt.plot(best_k, best_di, 'ro')\n",
    "plt.plot()"
   ]
  },
  {
   "cell_type": "code",
   "execution_count": null,
   "metadata": {},
   "outputs": [],
   "source": []
  }
 ],
 "metadata": {
  "kernelspec": {
   "display_name": "Python [conda env:cs528p2]",
   "language": "python",
   "name": "conda-env-cs528p2-py"
  },
  "language_info": {
   "codemirror_mode": {
    "name": "ipython",
    "version": 3
   },
   "file_extension": ".py",
   "mimetype": "text/x-python",
   "name": "python",
   "nbconvert_exporter": "python",
   "pygments_lexer": "ipython3",
   "version": "3.7.0"
  }
 },
 "nbformat": 4,
 "nbformat_minor": 2
}
