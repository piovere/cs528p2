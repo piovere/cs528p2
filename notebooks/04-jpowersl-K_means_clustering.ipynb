{
 "cells": [
  {
   "cell_type": "code",
   "execution_count": 4,
   "metadata": {},
   "outputs": [],
   "source": [
    "import pandas as pd\n",
    "import numpy as np\n",
    "import numpy.linalg as la"
   ]
  },
  {
   "cell_type": "code",
   "execution_count": 2,
   "metadata": {},
   "outputs": [],
   "source": [
    "datafile = \"../data/processed/UTK-peers_processed.csv\"\n",
    "df = pd.read_csv(datafile)"
   ]
  },
  {
   "cell_type": "code",
   "execution_count": 3,
   "metadata": {},
   "outputs": [
    {
     "data": {
      "text/html": [
       "<div>\n",
       "<style scoped>\n",
       "    .dataframe tbody tr th:only-of-type {\n",
       "        vertical-align: middle;\n",
       "    }\n",
       "\n",
       "    .dataframe tbody tr th {\n",
       "        vertical-align: top;\n",
       "    }\n",
       "\n",
       "    .dataframe thead th {\n",
       "        text-align: right;\n",
       "    }\n",
       "</style>\n",
       "<table border=\"1\" class=\"dataframe\">\n",
       "  <thead>\n",
       "    <tr style=\"text-align: right;\">\n",
       "      <th></th>\n",
       "      <th>Unnamed: 0</th>\n",
       "      <th>Name</th>\n",
       "      <th>IPEDS#</th>\n",
       "      <th>% Blk Total Students</th>\n",
       "      <th>% Hisp Total Students</th>\n",
       "      <th>2017 US News top 65</th>\n",
       "      <th>Total Enroll</th>\n",
       "      <th>% Grad Enroll</th>\n",
       "      <th>Six-year graduation rate</th>\n",
       "      <th>ACT/ SAT Avg</th>\n",
       "      <th>...</th>\n",
       "      <th>Student Services Expenditures</th>\n",
       "      <th>Endowment Figure</th>\n",
       "      <th>Endowment per Student FTE</th>\n",
       "      <th>Total Faculty.1</th>\n",
       "      <th>Total Tenure /Tenure-Track Facutly.1</th>\n",
       "      <th>Carm R1_1</th>\n",
       "      <th>Carm R1_2</th>\n",
       "      <th>2014 Med School_pre clin</th>\n",
       "      <th>2014 Med School_x</th>\n",
       "      <th>Vet School_True</th>\n",
       "    </tr>\n",
       "  </thead>\n",
       "  <tbody>\n",
       "    <tr>\n",
       "      <th>0</th>\n",
       "      <td>0</td>\n",
       "      <td>Univ. of Tennessee - Knoxville</td>\n",
       "      <td>221759.0</td>\n",
       "      <td>6.625965</td>\n",
       "      <td>3.404561</td>\n",
       "      <td>46</td>\n",
       "      <td>27845</td>\n",
       "      <td>21.483211</td>\n",
       "      <td>70</td>\n",
       "      <td>27.0</td>\n",
       "      <td>...</td>\n",
       "      <td>30587.112868</td>\n",
       "      <td>782734414</td>\n",
       "      <td>30587.112868</td>\n",
       "      <td>1526</td>\n",
       "      <td>1117</td>\n",
       "      <td>1</td>\n",
       "      <td>0</td>\n",
       "      <td>0</td>\n",
       "      <td>0</td>\n",
       "      <td>1</td>\n",
       "    </tr>\n",
       "    <tr>\n",
       "      <th>1</th>\n",
       "      <td>1</td>\n",
       "      <td>Univ. of Georgia</td>\n",
       "      <td>139959.0</td>\n",
       "      <td>8.048713</td>\n",
       "      <td>4.732909</td>\n",
       "      <td>18</td>\n",
       "      <td>36130</td>\n",
       "      <td>23.755882</td>\n",
       "      <td>85</td>\n",
       "      <td>27.5</td>\n",
       "      <td>...</td>\n",
       "      <td>27830.636107</td>\n",
       "      <td>939024216</td>\n",
       "      <td>27830.636107</td>\n",
       "      <td>1918</td>\n",
       "      <td>1606</td>\n",
       "      <td>1</td>\n",
       "      <td>0</td>\n",
       "      <td>0</td>\n",
       "      <td>0</td>\n",
       "      <td>1</td>\n",
       "    </tr>\n",
       "    <tr>\n",
       "      <th>2</th>\n",
       "      <td>2</td>\n",
       "      <td>Purdue Univ.</td>\n",
       "      <td>243780.0</td>\n",
       "      <td>2.994663</td>\n",
       "      <td>4.128780</td>\n",
       "      <td>20</td>\n",
       "      <td>40472</td>\n",
       "      <td>24.491006</td>\n",
       "      <td>75</td>\n",
       "      <td>26.5</td>\n",
       "      <td>...</td>\n",
       "      <td>66375.581533</td>\n",
       "      <td>2445541926</td>\n",
       "      <td>66375.581533</td>\n",
       "      <td>1783</td>\n",
       "      <td>1700</td>\n",
       "      <td>1</td>\n",
       "      <td>0</td>\n",
       "      <td>0</td>\n",
       "      <td>0</td>\n",
       "      <td>1</td>\n",
       "    </tr>\n",
       "    <tr>\n",
       "      <th>3</th>\n",
       "      <td>3</td>\n",
       "      <td>Texas A&amp;M Univ.</td>\n",
       "      <td>228723.0</td>\n",
       "      <td>3.203109</td>\n",
       "      <td>19.193581</td>\n",
       "      <td>27</td>\n",
       "      <td>63813</td>\n",
       "      <td>23.277389</td>\n",
       "      <td>79</td>\n",
       "      <td>26.0</td>\n",
       "      <td>...</td>\n",
       "      <td>180613.450122</td>\n",
       "      <td>10521034492</td>\n",
       "      <td>180613.450122</td>\n",
       "      <td>2983</td>\n",
       "      <td>1995</td>\n",
       "      <td>1</td>\n",
       "      <td>0</td>\n",
       "      <td>1</td>\n",
       "      <td>0</td>\n",
       "      <td>1</td>\n",
       "    </tr>\n",
       "    <tr>\n",
       "      <th>4</th>\n",
       "      <td>4</td>\n",
       "      <td>Michigan State Univ.</td>\n",
       "      <td>171100.0</td>\n",
       "      <td>6.591080</td>\n",
       "      <td>4.020737</td>\n",
       "      <td>33</td>\n",
       "      <td>50538</td>\n",
       "      <td>22.547390</td>\n",
       "      <td>77</td>\n",
       "      <td>25.5</td>\n",
       "      <td>...</td>\n",
       "      <td>55180.107179</td>\n",
       "      <td>2549137018</td>\n",
       "      <td>55180.107179</td>\n",
       "      <td>2616</td>\n",
       "      <td>1811</td>\n",
       "      <td>1</td>\n",
       "      <td>0</td>\n",
       "      <td>0</td>\n",
       "      <td>1</td>\n",
       "      <td>1</td>\n",
       "    </tr>\n",
       "  </tbody>\n",
       "</table>\n",
       "<p>5 rows × 64 columns</p>\n",
       "</div>"
      ],
      "text/plain": [
       "   Unnamed: 0                            Name    IPEDS#  % Blk Total Students  \\\n",
       "0           0  Univ. of Tennessee - Knoxville  221759.0              6.625965   \n",
       "1           1                Univ. of Georgia  139959.0              8.048713   \n",
       "2           2                    Purdue Univ.  243780.0              2.994663   \n",
       "3           3                Texas A&M Univ.   228723.0              3.203109   \n",
       "4           4            Michigan State Univ.  171100.0              6.591080   \n",
       "\n",
       "   % Hisp Total Students  2017 US News top 65  Total Enroll  % Grad Enroll  \\\n",
       "0               3.404561                   46         27845      21.483211   \n",
       "1               4.732909                   18         36130      23.755882   \n",
       "2               4.128780                   20         40472      24.491006   \n",
       "3              19.193581                   27         63813      23.277389   \n",
       "4               4.020737                   33         50538      22.547390   \n",
       "\n",
       "   Six-year graduation rate  ACT/ SAT Avg       ...         \\\n",
       "0                        70          27.0       ...          \n",
       "1                        85          27.5       ...          \n",
       "2                        75          26.5       ...          \n",
       "3                        79          26.0       ...          \n",
       "4                        77          25.5       ...          \n",
       "\n",
       "   Student Services Expenditures  Endowment Figure  Endowment per Student FTE  \\\n",
       "0                   30587.112868         782734414               30587.112868   \n",
       "1                   27830.636107         939024216               27830.636107   \n",
       "2                   66375.581533        2445541926               66375.581533   \n",
       "3                  180613.450122       10521034492              180613.450122   \n",
       "4                   55180.107179        2549137018               55180.107179   \n",
       "\n",
       "   Total Faculty.1  Total Tenure /Tenure-Track Facutly.1  Carm R1_1  \\\n",
       "0             1526                                  1117          1   \n",
       "1             1918                                  1606          1   \n",
       "2             1783                                  1700          1   \n",
       "3             2983                                  1995          1   \n",
       "4             2616                                  1811          1   \n",
       "\n",
       "   Carm R1_2  2014 Med School_pre clin  2014 Med School_x  Vet School_True  \n",
       "0          0                         0                  0                1  \n",
       "1          0                         0                  0                1  \n",
       "2          0                         0                  0                1  \n",
       "3          0                         1                  0                1  \n",
       "4          0                         0                  1                1  \n",
       "\n",
       "[5 rows x 64 columns]"
      ]
     },
     "execution_count": 3,
     "metadata": {},
     "output_type": "execute_result"
    }
   ],
   "source": [
    "df.head()"
   ]
  },
  {
   "cell_type": "code",
   "execution_count": null,
   "metadata": {},
   "outputs": [],
   "source": [
    "class KMeans():\n",
    "    def __init__(self):\n",
    "        self.k = None\n",
    "        self.iterations = None\n",
    "        self.labels = None\n",
    "        self.seeds = None\n",
    "    \n",
    "    def fit(self, data, k, iterations=10):\n",
    "        # Pick k random rows as seeds for clusters\n",
    "        indices = np.arange(data.shape[0])\n",
    "        seed_indices = np.random.choice(indices, size=k, replace=False)\n",
    "        self.seeds = data[seed_indices, :]\n",
    "        \n",
    "        distances = np.zeros(data.shape[0], k)\n",
    "        \n",
    "        # Make an array of labels\n",
    "        labels = np.random.randint(0, k, size=indices.shape[0])\n",
    "        \n",
    "        # Copy those labels to old_labels\n",
    "        old_labels = np.copy(labels)\n",
    "        \n",
    "        # calculate distance to each seed\n",
    "        for i in range(k):\n",
    "            s = self.seeds[i]\n",
    "            distances[:, i] = self.calc_dist(i)\n",
    "        \n",
    "        labels = np.argmin(distances, axis=1)\n",
    "            \n",
    "        while labels != old_labels:\n",
    "            \n",
    "    \n",
    "    def distance(self, x1, x2):\n",
    "        return la.norm(x1 - x2)**2\n",
    "    \n",
    "    def calc_dist(self, row):\n",
    "        d = [self.distance(row, seed) for seed in self.seeds]\n",
    "        d = np.array(d)"
   ]
  },
  {
   "cell_type": "code",
   "execution_count": 35,
   "metadata": {},
   "outputs": [
    {
     "name": "stdout",
     "output_type": "stream",
     "text": [
      "[[13. 12.]\n",
      " [ 2. 11.]\n",
      " [15.  8.]\n",
      " [10.  7.]\n",
      " [ 9.  6.]\n",
      " [ 3.  0.]\n",
      " [ 4.  1.]\n",
      " [ 5. 14.]]\n"
     ]
    }
   ],
   "source": [
    "a = np.arange(16.)\n",
    "np.random.shuffle(a)\n",
    "a = a.reshape((-1, 2))\n",
    "print(a)"
   ]
  },
  {
   "cell_type": "code",
   "execution_count": 40,
   "metadata": {},
   "outputs": [],
   "source": [
    "k = 2\n",
    "indices = np.arange(a.shape[0])"
   ]
  },
  {
   "cell_type": "code",
   "execution_count": 41,
   "metadata": {},
   "outputs": [],
   "source": [
    "seed_indices = np.random.choice(indices, size=k, replace=False)"
   ]
  },
  {
   "cell_type": "code",
   "execution_count": 42,
   "metadata": {},
   "outputs": [
    {
     "data": {
      "text/plain": [
       "array([2, 3])"
      ]
     },
     "execution_count": 42,
     "metadata": {},
     "output_type": "execute_result"
    }
   ],
   "source": [
    "seed_indices"
   ]
  },
  {
   "cell_type": "code",
   "execution_count": 43,
   "metadata": {},
   "outputs": [
    {
     "name": "stdout",
     "output_type": "stream",
     "text": [
      "[[15.  8.]\n",
      " [10.  7.]]\n"
     ]
    }
   ],
   "source": [
    "seeds = a[seed_indices, :]\n",
    "print(seeds)"
   ]
  },
  {
   "cell_type": "code",
   "execution_count": 45,
   "metadata": {},
   "outputs": [
    {
     "name": "stdout",
     "output_type": "stream",
     "text": [
      "[[0. 0.]\n",
      " [0. 0.]\n",
      " [0. 0.]\n",
      " [0. 0.]\n",
      " [0. 0.]\n",
      " [0. 0.]\n",
      " [0. 0.]\n",
      " [0. 0.]]\n"
     ]
    }
   ],
   "source": [
    "distances = np.zeros((a.shape[0], k))\n",
    "print(distances)"
   ]
  },
  {
   "cell_type": "code",
   "execution_count": 46,
   "metadata": {},
   "outputs": [
    {
     "name": "stdout",
     "output_type": "stream",
     "text": [
      "[1 0 0 0 0 1 1 1]\n"
     ]
    }
   ],
   "source": [
    "labels = np.random.randint(0, k, size=indices.shape[0])\n",
    "print(labels)"
   ]
  },
  {
   "cell_type": "code",
   "execution_count": 48,
   "metadata": {},
   "outputs": [
    {
     "name": "stdout",
     "output_type": "stream",
     "text": [
      "[1 0 0 0 0 1 1 1]\n"
     ]
    }
   ],
   "source": [
    "old_labels = np.copy(labels)\n",
    "print(old_labels)"
   ]
  },
  {
   "cell_type": "code",
   "execution_count": 50,
   "metadata": {},
   "outputs": [],
   "source": [
    "def distance(row, seed):\n",
    "    return la.norm(row - seed) ** 2\n",
    "def calc_dist(seeds, row):\n",
    "    d = [distance(row, seed) for seed in seeds]\n",
    "    d = np.array(d)"
   ]
  },
  {
   "cell_type": "code",
   "execution_count": 52,
   "metadata": {},
   "outputs": [
    {
     "name": "stdout",
     "output_type": "stream",
     "text": [
      "[[nan nan]\n",
      " [nan nan]\n",
      " [nan nan]\n",
      " [nan nan]\n",
      " [nan nan]\n",
      " [nan nan]\n",
      " [nan nan]\n",
      " [nan nan]]\n"
     ]
    }
   ],
   "source": [
    "for sample in a:\n",
    "    for i in range(k):\n",
    "        s = seeds[i]\n",
    "        distances[:, i] = calc_dist(s, a)\n",
    "print(distances)"
   ]
  },
  {
   "cell_type": "code",
   "execution_count": null,
   "metadata": {},
   "outputs": [],
   "source": []
  }
 ],
 "metadata": {
  "kernelspec": {
   "display_name": "Python [conda env:cs528p2]",
   "language": "python",
   "name": "conda-env-cs528p2-py"
  },
  "language_info": {
   "codemirror_mode": {
    "name": "ipython",
    "version": 3
   },
   "file_extension": ".py",
   "mimetype": "text/x-python",
   "name": "python",
   "nbconvert_exporter": "python",
   "pygments_lexer": "ipython3",
   "version": "3.7.0"
  }
 },
 "nbformat": 4,
 "nbformat_minor": 2
}
